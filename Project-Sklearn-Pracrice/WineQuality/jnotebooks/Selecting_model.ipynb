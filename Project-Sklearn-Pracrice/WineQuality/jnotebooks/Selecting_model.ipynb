{
 "cells": [
  {
   "cell_type": "code",
   "execution_count": 1,
   "id": "e5b96590-a2b6-4c10-bf75-56112f508b16",
   "metadata": {},
   "outputs": [],
   "source": [
    "import pandas as pd"
   ]
  },
  {
   "cell_type": "code",
   "execution_count": 24,
   "id": "57618617-11bb-4922-b0d1-36ed3aee6808",
   "metadata": {},
   "outputs": [],
   "source": [
    "data = pd.read_csv(\"../strat_train_set.csv\")\n",
    "data_features = data.drop(\"quality\", axis=1)\n",
    "data_labels = data[\"quality\"]"
   ]
  },
  {
   "cell_type": "code",
   "execution_count": 25,
   "id": "21221d8d-c6b1-4947-a741-6ef7c3599251",
   "metadata": {},
   "outputs": [],
   "source": [
    "from sklearn.pipeline import Pipeline\n",
    "from sklearn.preprocessing import StandardScaler"
   ]
  },
  {
   "cell_type": "code",
   "execution_count": 26,
   "id": "b3f826f3-d2c4-44be-a5ed-276554214896",
   "metadata": {},
   "outputs": [],
   "source": [
    "pipeline = Pipeline([\n",
    "        (\"scaler\", StandardScaler())\n",
    "    ])"
   ]
  },
  {
   "cell_type": "code",
   "execution_count": 27,
   "id": "15b0b12e-35d1-44a6-9398-dcf29acd61ef",
   "metadata": {},
   "outputs": [],
   "source": [
    "data_prepared = pipeline.fit_transform(data_features)"
   ]
  },
  {
   "cell_type": "code",
   "execution_count": 28,
   "id": "fd63eecd-69ef-4387-96fa-c3a470e87393",
   "metadata": {},
   "outputs": [],
   "source": [
    "from sklearn.metrics import root_mean_squared_error\n",
    "from sklearn.model_selection import cross_val_score"
   ]
  },
  {
   "cell_type": "code",
   "execution_count": 30,
   "id": "2728fd54-6381-4bb1-8fea-1ddf90486e99",
   "metadata": {},
   "outputs": [
    {
     "name": "stdout",
     "output_type": "stream",
     "text": [
      "0.7479704442845192 \n",
      "\n"
     ]
    },
    {
     "data": {
      "text/plain": [
       "count    10.000000\n",
       "mean      0.752867\n",
       "std       0.032183\n",
       "min       0.707941\n",
       "25%       0.737692\n",
       "50%       0.745685\n",
       "75%       0.769863\n",
       "max       0.823134\n",
       "dtype: float64"
      ]
     },
     "execution_count": 30,
     "metadata": {},
     "output_type": "execute_result"
    }
   ],
   "source": [
    "from sklearn.linear_model import LinearRegression\n",
    "\n",
    "lin_reg = LinearRegression()\n",
    "lin_reg = lin_reg.fit(data_prepared, data_lables)\n",
    "lin_pred = lin_reg.predict(data_prepared)\n",
    "\n",
    "lin_rmse = root_mean_squared_error(data_labels, lin_pred)\n",
    "print(lin_rmse,\"\\n\")\n",
    "\n",
    "lin_rmse = -cross_val_score(lin_reg, data_prepared, data_labels, scoring=\"neg_root_mean_squared_error\", cv=10)\n",
    "\n",
    "pd.Series(lin_rmse).describe()"
   ]
  },
  {
   "cell_type": "code",
   "execution_count": 37,
   "id": "c5e49817-743d-4987-9f95-476d9c78049c",
   "metadata": {},
   "outputs": [
    {
     "name": "stdout",
     "output_type": "stream",
     "text": [
      "0.23121657078022992 \n",
      "\n"
     ]
    },
    {
     "data": {
      "text/plain": [
       "count    10.000000\n",
       "mean      0.623595\n",
       "std       0.024035\n",
       "min       0.580966\n",
       "25%       0.605389\n",
       "50%       0.629668\n",
       "75%       0.645389\n",
       "max       0.648544\n",
       "dtype: float64"
      ]
     },
     "execution_count": 37,
     "metadata": {},
     "output_type": "execute_result"
    }
   ],
   "source": [
    "from sklearn.ensemble import RandomForestRegressor\n",
    "\n",
    "random_forest_reg = domForestRegressor()\n",
    "random_forest_reg = random_forest_reg.fit(data_prepared, data_lables)\n",
    "random_forest_pred = random_forest_reg.predict(data_prepared)\n",
    "\n",
    "random_forest_rmse = root_mean_squared_error(data_labels, random_forest_pred)\n",
    "print(rdom_forest_rmse,\"\\n\")\n",
    "\n",
    "random_forest_rmse = -cross_val_score(random_forest_reg, data_prepared, data_labels, scoring=\"neg_root_mean_squared_error\", cv=10)\n",
    "\n",
    "pd.Series(random_forest_rmse).describe()"
   ]
  },
  {
   "cell_type": "code",
   "execution_count": 36,
   "id": "d960c54f-8f0e-4b1e-a495-9cbe81d7c166",
   "metadata": {},
   "outputs": [
    {
     "name": "stdout",
     "output_type": "stream",
     "text": [
      "0.0 \n",
      "\n"
     ]
    },
    {
     "data": {
      "text/plain": [
       "count    10.000000\n",
       "mean      0.859438\n",
       "std       0.047594\n",
       "min       0.806542\n",
       "25%       0.817123\n",
       "50%       0.857884\n",
       "75%       0.884517\n",
       "max       0.951637\n",
       "dtype: float64"
      ]
     },
     "execution_count": 36,
     "metadata": {},
     "output_type": "execute_result"
    }
   ],
   "source": [
    "from sklearn.tree import DecisionTreeRegressor\n",
    "\n",
    "dec_tree_reg = DecisionTreeRegressor()\n",
    "dec_tree_reg = dec_tree_reg.fit(data_prepared, data_lables)\n",
    "dec_tree_pred = dec_tree_reg.predict(data_prepared)\n",
    "\n",
    "dec_tree_rmse = root_mean_squared_error(data_labels, dec_tree_pred)\n",
    "print(dec_tree_rmse,\"\\n\")\n",
    "\n",
    "dec_tree_rmse = -cross_val_score(dec_tree_reg, data_prepared, data_labels, scoring=\"neg_root_mean_squared_error\", cv=10)\n",
    "\n",
    "pd.Series(dec_tree_rmse).describe()"
   ]
  },
  {
   "cell_type": "code",
   "execution_count": null,
   "id": "23207a6a-7264-49c5-b2a5-92bb267ddeb6",
   "metadata": {},
   "outputs": [],
   "source": []
  }
 ],
 "metadata": {
  "kernelspec": {
   "display_name": "Python 3 (ipykernel)",
   "language": "python",
   "name": "python3"
  },
  "language_info": {
   "codemirror_mode": {
    "name": "ipython",
    "version": 3
   },
   "file_extension": ".py",
   "mimetype": "text/x-python",
   "name": "python",
   "nbconvert_exporter": "python",
   "pygments_lexer": "ipython3",
   "version": "3.13.5"
  }
 },
 "nbformat": 4,
 "nbformat_minor": 5
}
