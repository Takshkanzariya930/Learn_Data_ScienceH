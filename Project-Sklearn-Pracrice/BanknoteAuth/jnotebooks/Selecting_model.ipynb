{
 "cells": [
  {
   "cell_type": "code",
   "execution_count": 1,
   "id": "be639c2b-fe12-4d08-9630-8b76226ac88a",
   "metadata": {},
   "outputs": [],
   "source": [
    "import pandas as pd"
   ]
  },
  {
   "cell_type": "code",
   "execution_count": 2,
   "id": "ee081a3c-a0df-4d68-bd5c-966faff73ffd",
   "metadata": {},
   "outputs": [],
   "source": [
    "training_data = pd.read_csv(\"../strat_train_set.csv\")"
   ]
  },
  {
   "cell_type": "code",
   "execution_count": 3,
   "id": "68357f44-c42b-44c4-b8b8-401894a9a1c7",
   "metadata": {},
   "outputs": [],
   "source": [
    "data_label = training_data[\"Y\"]\n",
    "training_data = training_data.drop(\"Y\", axis=1)"
   ]
  },
  {
   "cell_type": "code",
   "execution_count": 4,
   "id": "2beaa4b6-a6d8-40cd-bb60-a1b6eb9ddf9d",
   "metadata": {},
   "outputs": [],
   "source": [
    "from sklearn.preprocessing import StandardScaler"
   ]
  },
  {
   "cell_type": "code",
   "execution_count": 5,
   "id": "6e7174d9-0507-4050-9d09-e1b668642489",
   "metadata": {},
   "outputs": [],
   "source": [
    "scaler = StandardScaler()\n",
    "training_data = scaler.fit_transform(training_data)"
   ]
  },
  {
   "cell_type": "code",
   "execution_count": 9,
   "id": "170872dd-9514-4ba1-9b70-3e65e2d9f92c",
   "metadata": {},
   "outputs": [],
   "source": [
    "from sklearn.model_selection import cross_val_score"
   ]
  },
  {
   "cell_type": "code",
   "execution_count": 12,
   "id": "b5dc6469-8b60-4275-9776-70ca50733f0e",
   "metadata": {},
   "outputs": [
    {
     "name": "stdout",
     "output_type": "stream",
     "text": [
      "count    10.000000\n",
      "mean      0.180983\n",
      "std       0.042448\n",
      "min       0.121766\n",
      "25%       0.152550\n",
      "50%       0.165091\n",
      "75%       0.222137\n",
      "max       0.246088\n",
      "dtype: float64\n"
     ]
    }
   ],
   "source": [
    "from sklearn.linear_model import LinearRegression\n",
    "\n",
    "model = LinearRegression()\n",
    "model = model.fit(training_data, data_label)\n",
    "model_rmse = -cross_val_score(model, training_data, data_label, scoring=\"neg_root_mean_squared_error\", cv=10)\n",
    "\n",
    "print(pd.Series(model_rmse).describe())"
   ]
  },
  {
   "cell_type": "code",
   "execution_count": 14,
   "id": "7806963b-8f07-45cd-89a0-899b87ec769a",
   "metadata": {},
   "outputs": [
    {
     "name": "stdout",
     "output_type": "stream",
     "text": [
      "count    10.000000\n",
      "mean      0.163623\n",
      "std       0.065665\n",
      "min       0.094868\n",
      "25%       0.111744\n",
      "50%       0.146067\n",
      "75%       0.210497\n",
      "max       0.263593\n",
      "dtype: float64\n"
     ]
    }
   ],
   "source": [
    "from sklearn.ensemble import RandomForestRegressor\n",
    "\n",
    "model = RandomForestRegressor()\n",
    "model = model.fit(training_data, data_label)\n",
    "model_rmse = -cross_val_score(model, training_data, data_label, scoring=\"neg_root_mean_squared_error\", cv=10)\n",
    "\n",
    "print(pd.Series(model_rmse).describe())"
   ]
  },
  {
   "cell_type": "code",
   "execution_count": 15,
   "id": "a27da516-80ea-45cf-9cb0-878c888d0cf2",
   "metadata": {},
   "outputs": [
    {
     "name": "stdout",
     "output_type": "stream",
     "text": [
      "count    10.000000\n",
      "mean      0.157792\n",
      "std       0.114221\n",
      "min       0.000000\n",
      "25%       0.047246\n",
      "50%       0.192450\n",
      "75%       0.248558\n",
      "max       0.272166\n",
      "dtype: float64\n"
     ]
    }
   ],
   "source": [
    "from sklearn.tree import DecisionTreeRegressor\n",
    "\n",
    "model = DecisionTreeRegressor()\n",
    "model = model.fit(training_data, data_label)\n",
    "model_rmse = -cross_val_score(model, training_data, data_label, scoring=\"neg_root_mean_squared_error\", cv=10)\n",
    "\n",
    "print(pd.Series(model_rmse).describe())"
   ]
  },
  {
   "cell_type": "code",
   "execution_count": 16,
   "id": "96f71d05-a756-487e-a6bb-601384d73027",
   "metadata": {},
   "outputs": [
    {
     "name": "stdout",
     "output_type": "stream",
     "text": [
      "count    10.000000\n",
      "mean      0.072841\n",
      "std       0.119331\n",
      "min       0.000000\n",
      "25%       0.000000\n",
      "50%       0.000000\n",
      "75%       0.141737\n",
      "max       0.272166\n",
      "dtype: float64\n"
     ]
    }
   ],
   "source": [
    "from sklearn.ensemble import RandomForestClassifier\n",
    "\n",
    "model = RandomForestClassifier()\n",
    "model = model.fit(training_data, data_label)\n",
    "model_rmse = -cross_val_score(model, training_data, data_label, scoring=\"neg_root_mean_squared_error\", cv=10)\n",
    "\n",
    "print(pd.Series(model_rmse).describe())"
   ]
  },
  {
   "cell_type": "code",
   "execution_count": null,
   "id": "e0ed67ed-8c59-4755-89c9-e08f23d5067a",
   "metadata": {},
   "outputs": [],
   "source": []
  }
 ],
 "metadata": {
  "kernelspec": {
   "display_name": "Python 3 (ipykernel)",
   "language": "python",
   "name": "python3"
  },
  "language_info": {
   "codemirror_mode": {
    "name": "ipython",
    "version": 3
   },
   "file_extension": ".py",
   "mimetype": "text/x-python",
   "name": "python",
   "nbconvert_exporter": "python",
   "pygments_lexer": "ipython3",
   "version": "3.13.5"
  }
 },
 "nbformat": 4,
 "nbformat_minor": 5
}
