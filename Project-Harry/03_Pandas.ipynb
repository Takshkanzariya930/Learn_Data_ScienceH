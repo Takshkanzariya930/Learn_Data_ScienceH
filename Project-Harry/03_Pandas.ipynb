{
 "cells": [
  {
   "cell_type": "code",
   "execution_count": 2,
   "id": "0cef4e05-19a3-4705-af39-0510505392c2",
   "metadata": {},
   "outputs": [],
   "source": [
    "import pandas as pd\n",
    "import numpy as np"
   ]
  },
  {
   "cell_type": "code",
   "execution_count": 2,
   "id": "fd37e427-9fb6-4cc8-8fcb-c86e1e08ba69",
   "metadata": {},
   "outputs": [],
   "source": [
    "arr = np.array([[1,2,3],[4,5,6]])"
   ]
  },
  {
   "cell_type": "code",
   "execution_count": 3,
   "id": "9a4cba3e-263e-4029-ae5f-028b69d5be7a",
   "metadata": {},
   "outputs": [
    {
     "data": {
      "text/plain": [
       "array([[1, 2, 3],\n",
       "       [4, 5, 6]])"
      ]
     },
     "execution_count": 3,
     "metadata": {},
     "output_type": "execute_result"
    }
   ],
   "source": [
    "arr"
   ]
  },
  {
   "cell_type": "code",
   "execution_count": 5,
   "id": "acf6af02-c50b-4f1f-a9f8-d651ee55d4a8",
   "metadata": {},
   "outputs": [],
   "source": [
    "df1 = pd.DataFrame(arr,columns = [\"a\",\"b\",\"c\"])"
   ]
  },
  {
   "cell_type": "code",
   "execution_count": 6,
   "id": "f05b20c6-eea0-4b09-8cf8-0d9d37271690",
   "metadata": {},
   "outputs": [
    {
     "data": {
      "text/html": [
       "<div>\n",
       "<style scoped>\n",
       "    .dataframe tbody tr th:only-of-type {\n",
       "        vertical-align: middle;\n",
       "    }\n",
       "\n",
       "    .dataframe tbody tr th {\n",
       "        vertical-align: top;\n",
       "    }\n",
       "\n",
       "    .dataframe thead th {\n",
       "        text-align: right;\n",
       "    }\n",
       "</style>\n",
       "<table border=\"1\" class=\"dataframe\">\n",
       "  <thead>\n",
       "    <tr style=\"text-align: right;\">\n",
       "      <th></th>\n",
       "      <th>a</th>\n",
       "      <th>b</th>\n",
       "      <th>c</th>\n",
       "    </tr>\n",
       "  </thead>\n",
       "  <tbody>\n",
       "    <tr>\n",
       "      <th>0</th>\n",
       "      <td>1</td>\n",
       "      <td>2</td>\n",
       "      <td>3</td>\n",
       "    </tr>\n",
       "    <tr>\n",
       "      <th>1</th>\n",
       "      <td>4</td>\n",
       "      <td>5</td>\n",
       "      <td>6</td>\n",
       "    </tr>\n",
       "  </tbody>\n",
       "</table>\n",
       "</div>"
      ],
      "text/plain": [
       "   a  b  c\n",
       "0  1  2  3\n",
       "1  4  5  6"
      ]
     },
     "execution_count": 6,
     "metadata": {},
     "output_type": "execute_result"
    }
   ],
   "source": [
    "df1"
   ]
  },
  {
   "cell_type": "code",
   "execution_count": 9,
   "id": "8a6bdb41-e18f-40a4-a6ff-99cb317cd4cb",
   "metadata": {},
   "outputs": [],
   "source": [
    "df1.index = [\"A\",\"B\"]"
   ]
  },
  {
   "cell_type": "code",
   "execution_count": 10,
   "id": "a850122b-7ca8-46c9-b94b-138d90d8dc95",
   "metadata": {},
   "outputs": [
    {
     "data": {
      "text/html": [
       "<div>\n",
       "<style scoped>\n",
       "    .dataframe tbody tr th:only-of-type {\n",
       "        vertical-align: middle;\n",
       "    }\n",
       "\n",
       "    .dataframe tbody tr th {\n",
       "        vertical-align: top;\n",
       "    }\n",
       "\n",
       "    .dataframe thead th {\n",
       "        text-align: right;\n",
       "    }\n",
       "</style>\n",
       "<table border=\"1\" class=\"dataframe\">\n",
       "  <thead>\n",
       "    <tr style=\"text-align: right;\">\n",
       "      <th></th>\n",
       "      <th>a</th>\n",
       "      <th>b</th>\n",
       "      <th>c</th>\n",
       "    </tr>\n",
       "  </thead>\n",
       "  <tbody>\n",
       "    <tr>\n",
       "      <th>A</th>\n",
       "      <td>1</td>\n",
       "      <td>2</td>\n",
       "      <td>3</td>\n",
       "    </tr>\n",
       "    <tr>\n",
       "      <th>B</th>\n",
       "      <td>4</td>\n",
       "      <td>5</td>\n",
       "      <td>6</td>\n",
       "    </tr>\n",
       "  </tbody>\n",
       "</table>\n",
       "</div>"
      ],
      "text/plain": [
       "   a  b  c\n",
       "A  1  2  3\n",
       "B  4  5  6"
      ]
     },
     "execution_count": 10,
     "metadata": {},
     "output_type": "execute_result"
    }
   ],
   "source": [
    "df1"
   ]
  },
  {
   "cell_type": "code",
   "execution_count": 12,
   "id": "7903112b-d85e-4be0-ac43-87ebb72a19cc",
   "metadata": {},
   "outputs": [],
   "source": [
    "df = pd.read_csv(\"data.csv\")"
   ]
  },
  {
   "cell_type": "code",
   "execution_count": 13,
   "id": "8085f0f1-2312-4bb2-b7d7-fdc7230a5c77",
   "metadata": {},
   "outputs": [
    {
     "data": {
      "text/html": [
       "<div>\n",
       "<style scoped>\n",
       "    .dataframe tbody tr th:only-of-type {\n",
       "        vertical-align: middle;\n",
       "    }\n",
       "\n",
       "    .dataframe tbody tr th {\n",
       "        vertical-align: top;\n",
       "    }\n",
       "\n",
       "    .dataframe thead th {\n",
       "        text-align: right;\n",
       "    }\n",
       "</style>\n",
       "<table border=\"1\" class=\"dataframe\">\n",
       "  <thead>\n",
       "    <tr style=\"text-align: right;\">\n",
       "      <th></th>\n",
       "      <th>Actor</th>\n",
       "      <th>Film</th>\n",
       "      <th>Year</th>\n",
       "      <th>Genre</th>\n",
       "      <th>BoxOffice(INR Crore)</th>\n",
       "      <th>IMDb</th>\n",
       "    </tr>\n",
       "  </thead>\n",
       "  <tbody>\n",
       "    <tr>\n",
       "      <th>0</th>\n",
       "      <td>Shah Rukh Khan</td>\n",
       "      <td>Pathaan</td>\n",
       "      <td>2023</td>\n",
       "      <td>Action</td>\n",
       "      <td>1050</td>\n",
       "      <td>7.2</td>\n",
       "    </tr>\n",
       "    <tr>\n",
       "      <th>1</th>\n",
       "      <td>Salman Khan</td>\n",
       "      <td>Tiger Zinda Hai</td>\n",
       "      <td>2017</td>\n",
       "      <td>Action</td>\n",
       "      <td>565</td>\n",
       "      <td>6.0</td>\n",
       "    </tr>\n",
       "    <tr>\n",
       "      <th>2</th>\n",
       "      <td>Aamir Khan</td>\n",
       "      <td>Dangal</td>\n",
       "      <td>2016</td>\n",
       "      <td>Biography</td>\n",
       "      <td>2024</td>\n",
       "      <td>8.4</td>\n",
       "    </tr>\n",
       "    <tr>\n",
       "      <th>3</th>\n",
       "      <td>Ranbir Kapoor</td>\n",
       "      <td>Brahmastra</td>\n",
       "      <td>2022</td>\n",
       "      <td>Fantasy</td>\n",
       "      <td>431</td>\n",
       "      <td>5.6</td>\n",
       "    </tr>\n",
       "    <tr>\n",
       "      <th>4</th>\n",
       "      <td>Ranveer Singh</td>\n",
       "      <td>Padmaavat</td>\n",
       "      <td>2018</td>\n",
       "      <td>Historical</td>\n",
       "      <td>585</td>\n",
       "      <td>7.0</td>\n",
       "    </tr>\n",
       "    <tr>\n",
       "      <th>5</th>\n",
       "      <td>Ayushmann Khurrana</td>\n",
       "      <td>Andhadhun</td>\n",
       "      <td>2018</td>\n",
       "      <td>Thriller</td>\n",
       "      <td>111</td>\n",
       "      <td>8.3</td>\n",
       "    </tr>\n",
       "    <tr>\n",
       "      <th>6</th>\n",
       "      <td>Rajkummar Rao</td>\n",
       "      <td>Stree</td>\n",
       "      <td>2018</td>\n",
       "      <td>Horror Comedy</td>\n",
       "      <td>180</td>\n",
       "      <td>7.5</td>\n",
       "    </tr>\n",
       "    <tr>\n",
       "      <th>7</th>\n",
       "      <td>Hrithik Roshan</td>\n",
       "      <td>War</td>\n",
       "      <td>2019</td>\n",
       "      <td>Action</td>\n",
       "      <td>475</td>\n",
       "      <td>6.5</td>\n",
       "    </tr>\n",
       "    <tr>\n",
       "      <th>8</th>\n",
       "      <td>Akshay Kumar</td>\n",
       "      <td>Good Newwz</td>\n",
       "      <td>2019</td>\n",
       "      <td>Comedy</td>\n",
       "      <td>318</td>\n",
       "      <td>7.0</td>\n",
       "    </tr>\n",
       "    <tr>\n",
       "      <th>9</th>\n",
       "      <td>Kartik Aaryan</td>\n",
       "      <td>Bhool Bhulaiyaa 2</td>\n",
       "      <td>2022</td>\n",
       "      <td>Horror Comedy</td>\n",
       "      <td>266</td>\n",
       "      <td>5.9</td>\n",
       "    </tr>\n",
       "    <tr>\n",
       "      <th>10</th>\n",
       "      <td>Varun Dhawan</td>\n",
       "      <td>Badrinath Ki Dulhania</td>\n",
       "      <td>2017</td>\n",
       "      <td>Romantic Comedy</td>\n",
       "      <td>201</td>\n",
       "      <td>6.1</td>\n",
       "    </tr>\n",
       "    <tr>\n",
       "      <th>11</th>\n",
       "      <td>Vicky Kaushal</td>\n",
       "      <td>Uri: The Surgical Strike</td>\n",
       "      <td>2019</td>\n",
       "      <td>Action</td>\n",
       "      <td>342</td>\n",
       "      <td>8.2</td>\n",
       "    </tr>\n",
       "  </tbody>\n",
       "</table>\n",
       "</div>"
      ],
      "text/plain": [
       "                 Actor                      Film  Year            Genre  \\\n",
       "0       Shah Rukh Khan                   Pathaan  2023           Action   \n",
       "1          Salman Khan           Tiger Zinda Hai  2017           Action   \n",
       "2           Aamir Khan                    Dangal  2016        Biography   \n",
       "3        Ranbir Kapoor                Brahmastra  2022          Fantasy   \n",
       "4        Ranveer Singh                 Padmaavat  2018       Historical   \n",
       "5   Ayushmann Khurrana                 Andhadhun  2018         Thriller   \n",
       "6        Rajkummar Rao                     Stree  2018    Horror Comedy   \n",
       "7       Hrithik Roshan                       War  2019           Action   \n",
       "8         Akshay Kumar                Good Newwz  2019           Comedy   \n",
       "9        Kartik Aaryan         Bhool Bhulaiyaa 2  2022    Horror Comedy   \n",
       "10        Varun Dhawan     Badrinath Ki Dulhania  2017  Romantic Comedy   \n",
       "11       Vicky Kaushal  Uri: The Surgical Strike  2019           Action   \n",
       "\n",
       "    BoxOffice(INR Crore)  IMDb  \n",
       "0                   1050   7.2  \n",
       "1                    565   6.0  \n",
       "2                   2024   8.4  \n",
       "3                    431   5.6  \n",
       "4                    585   7.0  \n",
       "5                    111   8.3  \n",
       "6                    180   7.5  \n",
       "7                    475   6.5  \n",
       "8                    318   7.0  \n",
       "9                    266   5.9  \n",
       "10                   201   6.1  \n",
       "11                   342   8.2  "
      ]
     },
     "execution_count": 13,
     "metadata": {},
     "output_type": "execute_result"
    }
   ],
   "source": [
    "df"
   ]
  },
  {
   "cell_type": "code",
   "execution_count": 14,
   "id": "db29e240-8154-4799-9f2d-6d618fe47018",
   "metadata": {},
   "outputs": [
    {
     "data": {
      "text/plain": [
       "0         Shah Rukh Khan\n",
       "1            Salman Khan\n",
       "2             Aamir Khan\n",
       "3          Ranbir Kapoor\n",
       "4          Ranveer Singh\n",
       "5     Ayushmann Khurrana\n",
       "6          Rajkummar Rao\n",
       "7         Hrithik Roshan\n",
       "8           Akshay Kumar\n",
       "9          Kartik Aaryan\n",
       "10          Varun Dhawan\n",
       "11         Vicky Kaushal\n",
       "Name: Actor, dtype: object"
      ]
     },
     "execution_count": 14,
     "metadata": {},
     "output_type": "execute_result"
    }
   ],
   "source": [
    "df[\"Actor\"]"
   ]
  },
  {
   "cell_type": "code",
   "execution_count": 3,
   "id": "f92ff323-9954-4c55-9c4c-af09652a7d45",
   "metadata": {},
   "outputs": [],
   "source": [
    "df = pd.DataFrame({\n",
    "    \"Department\": [\"HR\", \"HR\", \"IT\", \"IT\", \"Marketing\", \"Marketing\", \"Sales\", \"Sales\"],\n",
    "    \"Team\": [\"A\", \"A\", \"B\", \"B\", \"C\", \"C\", \"D\", \"D\"],\n",
    "    \"Gender\": [\"M\", \"F\", \"M\", \"F\", \"M\", \"F\", \"M\", \"F\"],\n",
    "    \"Salary\": [85, 90, 78, 85, 92, 88, 75, 80],\n",
    "    \"Age\": [23, 25, 30, 22, 28, 26, 21, 27],\n",
    "    \"JoinDate\": pd.to_datetime([\n",
    "        \"2020-01-10\", \"2020-02-15\", \"2021-03-20\", \"2021-04-10\",\n",
    "        \"2020-05-30\", \"2020-06-25\", \"2021-07-15\", \"2021-08-01\"\n",
    "    ])\n",
    "})  \n"
   ]
  },
  {
   "cell_type": "code",
   "execution_count": 4,
   "id": "0de11c2e-2754-441a-83d9-5157015b7b00",
   "metadata": {},
   "outputs": [
    {
     "data": {
      "text/html": [
       "<div>\n",
       "<style scoped>\n",
       "    .dataframe tbody tr th:only-of-type {\n",
       "        vertical-align: middle;\n",
       "    }\n",
       "\n",
       "    .dataframe tbody tr th {\n",
       "        vertical-align: top;\n",
       "    }\n",
       "\n",
       "    .dataframe thead th {\n",
       "        text-align: right;\n",
       "    }\n",
       "</style>\n",
       "<table border=\"1\" class=\"dataframe\">\n",
       "  <thead>\n",
       "    <tr style=\"text-align: right;\">\n",
       "      <th></th>\n",
       "      <th>Department</th>\n",
       "      <th>Team</th>\n",
       "      <th>Gender</th>\n",
       "      <th>Salary</th>\n",
       "      <th>Age</th>\n",
       "      <th>JoinDate</th>\n",
       "    </tr>\n",
       "  </thead>\n",
       "  <tbody>\n",
       "    <tr>\n",
       "      <th>0</th>\n",
       "      <td>HR</td>\n",
       "      <td>A</td>\n",
       "      <td>M</td>\n",
       "      <td>85</td>\n",
       "      <td>23</td>\n",
       "      <td>2020-01-10</td>\n",
       "    </tr>\n",
       "    <tr>\n",
       "      <th>1</th>\n",
       "      <td>HR</td>\n",
       "      <td>A</td>\n",
       "      <td>F</td>\n",
       "      <td>90</td>\n",
       "      <td>25</td>\n",
       "      <td>2020-02-15</td>\n",
       "    </tr>\n",
       "    <tr>\n",
       "      <th>2</th>\n",
       "      <td>IT</td>\n",
       "      <td>B</td>\n",
       "      <td>M</td>\n",
       "      <td>78</td>\n",
       "      <td>30</td>\n",
       "      <td>2021-03-20</td>\n",
       "    </tr>\n",
       "    <tr>\n",
       "      <th>3</th>\n",
       "      <td>IT</td>\n",
       "      <td>B</td>\n",
       "      <td>F</td>\n",
       "      <td>85</td>\n",
       "      <td>22</td>\n",
       "      <td>2021-04-10</td>\n",
       "    </tr>\n",
       "    <tr>\n",
       "      <th>4</th>\n",
       "      <td>Marketing</td>\n",
       "      <td>C</td>\n",
       "      <td>M</td>\n",
       "      <td>92</td>\n",
       "      <td>28</td>\n",
       "      <td>2020-05-30</td>\n",
       "    </tr>\n",
       "    <tr>\n",
       "      <th>5</th>\n",
       "      <td>Marketing</td>\n",
       "      <td>C</td>\n",
       "      <td>F</td>\n",
       "      <td>88</td>\n",
       "      <td>26</td>\n",
       "      <td>2020-06-25</td>\n",
       "    </tr>\n",
       "    <tr>\n",
       "      <th>6</th>\n",
       "      <td>Sales</td>\n",
       "      <td>D</td>\n",
       "      <td>M</td>\n",
       "      <td>75</td>\n",
       "      <td>21</td>\n",
       "      <td>2021-07-15</td>\n",
       "    </tr>\n",
       "    <tr>\n",
       "      <th>7</th>\n",
       "      <td>Sales</td>\n",
       "      <td>D</td>\n",
       "      <td>F</td>\n",
       "      <td>80</td>\n",
       "      <td>27</td>\n",
       "      <td>2021-08-01</td>\n",
       "    </tr>\n",
       "  </tbody>\n",
       "</table>\n",
       "</div>"
      ],
      "text/plain": [
       "  Department Team Gender  Salary  Age   JoinDate\n",
       "0         HR    A      M      85   23 2020-01-10\n",
       "1         HR    A      F      90   25 2020-02-15\n",
       "2         IT    B      M      78   30 2021-03-20\n",
       "3         IT    B      F      85   22 2021-04-10\n",
       "4  Marketing    C      M      92   28 2020-05-30\n",
       "5  Marketing    C      F      88   26 2020-06-25\n",
       "6      Sales    D      M      75   21 2021-07-15\n",
       "7      Sales    D      F      80   27 2021-08-01"
      ]
     },
     "execution_count": 4,
     "metadata": {},
     "output_type": "execute_result"
    }
   ],
   "source": [
    "df"
   ]
  },
  {
   "cell_type": "code",
   "execution_count": 6,
   "id": "19292b09-5b5b-4684-8af6-72f5d994b109",
   "metadata": {},
   "outputs": [
    {
     "data": {
      "text/plain": [
       "Department\n",
       "HR           87.5\n",
       "IT           81.5\n",
       "Marketing    90.0\n",
       "Sales        77.5\n",
       "Name: Salary, dtype: float64"
      ]
     },
     "execution_count": 6,
     "metadata": {},
     "output_type": "execute_result"
    }
   ],
   "source": [
    "df.groupby(\"Department\")[\"Salary\"].mean()"
   ]
  }
 ],
 "metadata": {
  "kernelspec": {
   "display_name": "Python 3 (ipykernel)",
   "language": "python",
   "name": "python3"
  },
  "language_info": {
   "codemirror_mode": {
    "name": "ipython",
    "version": 3
   },
   "file_extension": ".py",
   "mimetype": "text/x-python",
   "name": "python",
   "nbconvert_exporter": "python",
   "pygments_lexer": "ipython3",
   "version": "3.13.5"
  }
 },
 "nbformat": 4,
 "nbformat_minor": 5
}
