{
 "cells": [
  {
   "cell_type": "code",
   "execution_count": 1,
   "id": "e4e3ec81-7b8d-4654-9e57-b1b145fa8366",
   "metadata": {},
   "outputs": [],
   "source": [
    "import numpy as np"
   ]
  },
  {
   "cell_type": "code",
   "execution_count": 2,
   "id": "38f3e8a2-31da-4e12-b1f7-551bbe711f08",
   "metadata": {},
   "outputs": [
    {
     "data": {
      "text/plain": [
       "array([[11,  4,  7],\n",
       "       [ 9, 12,  9],\n",
       "       [ 6,  7,  7]], dtype=int32)"
      ]
     },
     "execution_count": 2,
     "metadata": {},
     "output_type": "execute_result"
    }
   ],
   "source": [
    "np.random.randint(18,size = (3,3))"
   ]
  },
  {
   "cell_type": "code",
   "execution_count": 62,
   "id": "002a7264-8090-45cd-a652-369ccb991d0c",
   "metadata": {},
   "outputs": [],
   "source": [
    "arr1 = np.array([1.1,2.2,3.3])"
   ]
  },
  {
   "cell_type": "code",
   "execution_count": 65,
   "id": "aa8e5cb0-2a08-4600-bed9-a56dba482988",
   "metadata": {},
   "outputs": [
    {
     "data": {
      "text/plain": [
       "dtype('float64')"
      ]
     },
     "execution_count": 65,
     "metadata": {},
     "output_type": "execute_result"
    }
   ],
   "source": [
    "arr1.dtype"
   ]
  },
  {
   "cell_type": "code",
   "execution_count": 64,
   "id": "853bc86c-7227-41cc-b8c8-800c0c062c92",
   "metadata": {},
   "outputs": [
    {
     "data": {
      "text/plain": [
       "array([1.1, 2.2, 3.3])"
      ]
     },
     "execution_count": 64,
     "metadata": {},
     "output_type": "execute_result"
    }
   ],
   "source": [
    "arr1"
   ]
  },
  {
   "cell_type": "code",
   "execution_count": 69,
   "id": "0c1842d8-e7e6-4850-b0f5-8bbc5f8a5405",
   "metadata": {},
   "outputs": [],
   "source": [
    "arr6 = arr1.astype('int64')"
   ]
  },
  {
   "cell_type": "code",
   "execution_count": 70,
   "id": "bd314ede-8067-4328-8348-23c7feef784f",
   "metadata": {},
   "outputs": [
    {
     "data": {
      "text/plain": [
       "array([1, 2, 3])"
      ]
     },
     "execution_count": 70,
     "metadata": {},
     "output_type": "execute_result"
    }
   ],
   "source": [
    "arr6"
   ]
  },
  {
   "cell_type": "code",
   "execution_count": 71,
   "id": "b42cd409-0225-4b2a-ae90-db296bffcba8",
   "metadata": {},
   "outputs": [],
   "source": [
    "arr6[2] = 333"
   ]
  },
  {
   "cell_type": "code",
   "execution_count": 72,
   "id": "3d7dbbb2-0452-4d4f-b9dd-76f7c03ff5ed",
   "metadata": {},
   "outputs": [
    {
     "data": {
      "text/plain": [
       "array([  1,   2, 333])"
      ]
     },
     "execution_count": 72,
     "metadata": {},
     "output_type": "execute_result"
    }
   ],
   "source": [
    "arr6"
   ]
  },
  {
   "cell_type": "code",
   "execution_count": 73,
   "id": "78c8cf54-9f8e-476b-ac09-454380cec765",
   "metadata": {},
   "outputs": [
    {
     "data": {
      "text/plain": [
       "array([1.1, 2.2, 3.3])"
      ]
     },
     "execution_count": 73,
     "metadata": {},
     "output_type": "execute_result"
    }
   ],
   "source": [
    "arr1"
   ]
  },
  {
   "cell_type": "code",
   "execution_count": 6,
   "id": "7b2cc1b9-2725-430d-8b98-170de3f45ddf",
   "metadata": {},
   "outputs": [],
   "source": [
    "arr2 = np.array([1,2,3,4,5,6,7,8,9])"
   ]
  },
  {
   "cell_type": "code",
   "execution_count": 7,
   "id": "9dff4ba9-0bbc-4674-93cb-6c1f6e590279",
   "metadata": {},
   "outputs": [
    {
     "data": {
      "text/plain": [
       "array([[1, 2, 3],\n",
       "       [4, 5, 6],\n",
       "       [7, 8, 9]])"
      ]
     },
     "execution_count": 7,
     "metadata": {},
     "output_type": "execute_result"
    }
   ],
   "source": [
    "arr2.reshape((3,3))"
   ]
  },
  {
   "cell_type": "code",
   "execution_count": 8,
   "id": "abbf6565-2a48-4e12-923b-a711903d87ba",
   "metadata": {},
   "outputs": [],
   "source": [
    "arr3 = np.array([10,20,30,40,50,60,70,80,90,100])"
   ]
  },
  {
   "cell_type": "code",
   "execution_count": 9,
   "id": "81d6dc85-1702-463c-a7e3-c6322bf9d95e",
   "metadata": {},
   "outputs": [],
   "source": [
    "mask = arr3> 50"
   ]
  },
  {
   "cell_type": "code",
   "execution_count": 10,
   "id": "f29ce41d-4c78-4ff5-ae9c-d6611ff02605",
   "metadata": {},
   "outputs": [
    {
     "data": {
      "text/plain": [
       "array([ 60,  70,  80,  90, 100])"
      ]
     },
     "execution_count": 10,
     "metadata": {},
     "output_type": "execute_result"
    }
   ],
   "source": [
    "arr3[mask]"
   ]
  },
  {
   "cell_type": "code",
   "execution_count": 11,
   "id": "d369688b-7af1-4850-b1c0-85c276ff7b86",
   "metadata": {},
   "outputs": [
    {
     "data": {
      "text/plain": [
       "array([ 60,  70,  80,  90, 100])"
      ]
     },
     "execution_count": 11,
     "metadata": {},
     "output_type": "execute_result"
    }
   ],
   "source": [
    "arr3[arr3>50]"
   ]
  },
  {
   "cell_type": "code",
   "execution_count": 58,
   "id": "63e7c972-4b1d-4d91-a4e2-bd77f378193c",
   "metadata": {},
   "outputs": [],
   "source": [
    "arr4 = np.array([[[[1,2,3],[4,5,6]],\n",
    "                 [[7,8,9],[10,11,12]]],[[[11,12,13],[14,15,16]],[[1,2,3],[4,5,6]]]])"
   ]
  },
  {
   "cell_type": "code",
   "execution_count": 59,
   "id": "750e626c-19ad-42a8-95cf-5286bd4cade7",
   "metadata": {},
   "outputs": [
    {
     "data": {
      "text/plain": [
       "array([[[[ 1,  2,  3],\n",
       "         [ 4,  5,  6]],\n",
       "\n",
       "        [[ 7,  8,  9],\n",
       "         [10, 11, 12]]],\n",
       "\n",
       "\n",
       "       [[[11, 12, 13],\n",
       "         [14, 15, 16]],\n",
       "\n",
       "        [[ 1,  2,  3],\n",
       "         [ 4,  5,  6]]]])"
      ]
     },
     "execution_count": 59,
     "metadata": {},
     "output_type": "execute_result"
    }
   ],
   "source": [
    "arr4"
   ]
  },
  {
   "cell_type": "code",
   "execution_count": 60,
   "id": "a79b282f-fa20-4785-a23c-d7eaf8e3aa8d",
   "metadata": {},
   "outputs": [
    {
     "data": {
      "text/plain": [
       "4"
      ]
     },
     "execution_count": 60,
     "metadata": {},
     "output_type": "execute_result"
    }
   ],
   "source": [
    "arr4.ndim"
   ]
  }
 ],
 "metadata": {
  "kernelspec": {
   "display_name": "Python 3 (ipykernel)",
   "language": "python",
   "name": "python3"
  },
  "language_info": {
   "codemirror_mode": {
    "name": "ipython",
    "version": 3
   },
   "file_extension": ".py",
   "mimetype": "text/x-python",
   "name": "python",
   "nbconvert_exporter": "python",
   "pygments_lexer": "ipython3",
   "version": "3.13.5"
  }
 },
 "nbformat": 4,
 "nbformat_minor": 5
}
