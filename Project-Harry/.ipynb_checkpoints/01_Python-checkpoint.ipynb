{
 "cells": [
  {
   "cell_type": "code",
   "execution_count": 1,
   "id": "fff83736-17d3-41d7-a5cc-e61c9b94f9e9",
   "metadata": {},
   "outputs": [],
   "source": [
    "dic = {\"name\":\"Ram\",\"age\":23}"
   ]
  },
  {
   "cell_type": "code",
   "execution_count": 2,
   "id": "b0961c21-657a-44d9-9a88-f7e239c5f432",
   "metadata": {
    "scrolled": true
   },
   "outputs": [
    {
     "data": {
      "text/plain": [
       "{'name': 'Ram', 'age': 23}"
      ]
     },
     "execution_count": 2,
     "metadata": {},
     "output_type": "execute_result"
    }
   ],
   "source": [
    "dic"
   ]
  },
  {
   "cell_type": "code",
   "execution_count": 3,
   "id": "d653a0a3-3dd6-4b52-800b-6bf3b5d04b37",
   "metadata": {},
   "outputs": [
    {
     "data": {
      "text/plain": [
       "'Ram'"
      ]
     },
     "execution_count": 3,
     "metadata": {},
     "output_type": "execute_result"
    }
   ],
   "source": [
    "dic.setdefault(\"name\")"
   ]
  },
  {
   "cell_type": "code",
   "execution_count": 4,
   "id": "86c99800-15b3-43a8-a7c5-ca653bfc257b",
   "metadata": {},
   "outputs": [],
   "source": [
    "dic.setdefault(\"language\")"
   ]
  },
  {
   "cell_type": "code",
   "execution_count": 5,
   "id": "ed737df4-7712-4ac3-8d24-6465f44e70c2",
   "metadata": {},
   "outputs": [
    {
     "data": {
      "text/plain": [
       "{'name': 'Ram', 'age': 23, 'language': None}"
      ]
     },
     "execution_count": 5,
     "metadata": {},
     "output_type": "execute_result"
    }
   ],
   "source": [
    "dic"
   ]
  },
  {
   "cell_type": "code",
   "execution_count": 6,
   "id": "8c951517-6440-4dd5-97d3-19714252f027",
   "metadata": {},
   "outputs": [
    {
     "data": {
      "text/plain": [
       "'English'"
      ]
     },
     "execution_count": 6,
     "metadata": {},
     "output_type": "execute_result"
    }
   ],
   "source": [
    "dic.setdefault(\"language1\",\"English\")"
   ]
  },
  {
   "cell_type": "code",
   "execution_count": 7,
   "id": "30d8c8e9-b01a-4124-8896-73286048b4a1",
   "metadata": {},
   "outputs": [
    {
     "data": {
      "text/plain": [
       "{'name': 'Ram', 'age': 23, 'language': None, 'language1': 'English'}"
      ]
     },
     "execution_count": 7,
     "metadata": {},
     "output_type": "execute_result"
    }
   ],
   "source": [
    "dic"
   ]
  },
  {
   "cell_type": "code",
   "execution_count": null,
   "id": "63e162be-28ff-45a4-8d0e-861381f03b0a",
   "metadata": {},
   "outputs": [],
   "source": []
  }
 ],
 "metadata": {
  "kernelspec": {
   "display_name": "Python 3 (ipykernel)",
   "language": "python",
   "name": "python3"
  },
  "language_info": {
   "codemirror_mode": {
    "name": "ipython",
    "version": 3
   },
   "file_extension": ".py",
   "mimetype": "text/x-python",
   "name": "python",
   "nbconvert_exporter": "python",
   "pygments_lexer": "ipython3",
   "version": "3.13.5"
  }
 },
 "nbformat": 4,
 "nbformat_minor": 5
}
